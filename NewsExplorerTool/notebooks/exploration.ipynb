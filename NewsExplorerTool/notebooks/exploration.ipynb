{
 "cells": [
  {
   "cell_type": "code",
   "execution_count": 7,
   "metadata": {},
   "outputs": [],
   "source": [
    "import validators\n",
    "import requests"
   ]
  },
  {
   "cell_type": "code",
   "execution_count": 4,
   "metadata": {},
   "outputs": [
    {
     "data": {
      "text/plain": [
       "True"
      ]
     },
     "execution_count": 4,
     "metadata": {},
     "output_type": "execute_result"
    }
   ],
   "source": [
    "validators.url(\"https://stackoverflow.cm/questions/7160737/how-to-validate-a-url-in-python-malformed-or-not\")"
   ]
  },
  {
   "cell_type": "code",
   "execution_count": 8,
   "metadata": {},
   "outputs": [],
   "source": [
    "def validate_and_check_url(url):\n",
    "    # Validate URL format\n",
    "    if not validators.url(url):\n",
    "        return \"Error: Invalid URL format.\"\n",
    "    \n",
    "    try:\n",
    "        # Make a request to the URL\n",
    "        response = requests.get(url)\n",
    "        # Check if the status code is 200\n",
    "        if response.status_code == 200:\n",
    "            return \"URL is valid and accessible, with status code 200.\"\n",
    "        else:\n",
    "            return f\"Error: URL is accessible but returned status code {response.status_code}.\"\n",
    "    except requests.exceptions.RequestException as e:\n",
    "        # Handle exceptions for requests (e.g., connection errors)\n",
    "        return f\"Error: An error occurred while trying to access the URL. {e}\""
   ]
  },
  {
   "cell_type": "code",
   "execution_count": 10,
   "metadata": {},
   "outputs": [
    {
     "data": {
      "text/plain": [
       "'URL is valid and accessible, with status code 200.'"
      ]
     },
     "execution_count": 10,
     "metadata": {},
     "output_type": "execute_result"
    }
   ],
   "source": [
    "url = \"https://stackoverflow.com/questions/7160737/how-to-validate-a-url-in-python-malformed-or-not\"\n",
    "\n",
    "validate_and_check_url(url)"
   ]
  },
  {
   "cell_type": "code",
   "execution_count": null,
   "metadata": {},
   "outputs": [],
   "source": []
  }
 ],
 "metadata": {
  "kernelspec": {
   "display_name": "newsexplorer",
   "language": "python",
   "name": "python3"
  },
  "language_info": {
   "codemirror_mode": {
    "name": "ipython",
    "version": 3
   },
   "file_extension": ".py",
   "mimetype": "text/x-python",
   "name": "python",
   "nbconvert_exporter": "python",
   "pygments_lexer": "ipython3",
   "version": "3.9.18"
  }
 },
 "nbformat": 4,
 "nbformat_minor": 2
}
